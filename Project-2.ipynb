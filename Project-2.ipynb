{
 "cells": [
  {
   "cell_type": "code",
   "execution_count": 29,
   "metadata": {},
   "outputs": [],
   "source": [
    "import bs4\n",
    "import urllib.request as url"
   ]
  },
  {
   "cell_type": "code",
   "execution_count": 30,
   "metadata": {},
   "outputs": [
    {
     "name": "stdout",
     "output_type": "stream",
     "text": [
      "Enter The Name Of The Movie:the avenger\n"
     ]
    }
   ],
   "source": [
    "movie = input(\"Enter The Name Of The Movie:\")"
   ]
  },
  {
   "cell_type": "code",
   "execution_count": 31,
   "metadata": {},
   "outputs": [],
   "source": [
    "movie_list = []\n",
    "if len(movie) != 1:\n",
    "    for i in movie:\n",
    "        if i==' ':\n",
    "            movie_list.append('+')\n",
    "        else:\n",
    "            movie_list.append(i)\n",
    "    movie_1 = ''.join(movie_list)\n",
    "else:\n",
    "    pass"
   ]
  },
  {
   "cell_type": "code",
   "execution_count": 32,
   "metadata": {},
   "outputs": [],
   "source": [
    "URL = 'https://www.imdb.com/find?ref_=nv_sr_fn&q=' + movie_1 + '&s=all'\n",
    "http = url.urlopen(URL)\n",
    "page = bs4.BeautifulSoup(http)"
   ]
  },
  {
   "cell_type": "code",
   "execution_count": 33,
   "metadata": {},
   "outputs": [],
   "source": [
    "td_tag = page.find('td', class_ = 'result_text')\n",
    "a_tage = td_tag.find('a')"
   ]
  },
  {
   "cell_type": "code",
   "execution_count": 34,
   "metadata": {},
   "outputs": [],
   "source": [
    "Newurl = 'https://www.imdb.com' + a_tage['href'] + '?ref_=fn_al_tt_1'\n",
    "http_1 = url.urlopen(Newurl)\n",
    "page_1 = bs4.BeautifulSoup(http_1)\n",
    "div = page_1.find('div', class_ = 'titleReviewBarItem titleReviewbarItemBorder')\n",
    "a_tag = div.find_all('a')[0]"
   ]
  },
  {
   "cell_type": "code",
   "execution_count": 35,
   "metadata": {},
   "outputs": [],
   "source": [
    "#To Fetch First Review of the Movie\n",
    "Newurl_1 = 'https://www.imdb.com' + a_tage['href'] + a_tag['href'] + '?ref_=tt_ov_rt'\n",
    "http_2 = url.urlopen(Newurl_1)\n",
    "page_2 = bs4.BeautifulSoup(http_2)\n",
    "div_2 = page_2.find('div', class_ = 'lister-item-content')\n",
    "a_tag_2 = div_2.find_all('a')[0]"
   ]
  },
  {
   "cell_type": "code",
   "execution_count": 36,
   "metadata": {},
   "outputs": [
    {
     "data": {
      "text/plain": [
       "' Good Spaghetti/Tortilla Western co-produced by Italy/Spain about ordinary vengeance\\n'"
      ]
     },
     "execution_count": 36,
     "metadata": {},
     "output_type": "execute_result"
    }
   ],
   "source": [
    "#First Review of the Movie\n",
    "a_tag_2.text"
   ]
  },
  {
   "cell_type": "code",
   "execution_count": 37,
   "metadata": {},
   "outputs": [
    {
     "name": "stdout",
     "output_type": "stream",
     "text": [
      "Rating of the the avenger according to IMDB:6.2\n"
     ]
    }
   ],
   "source": [
    "#To Find The Rating of The Movie\n",
    "Rate = page_1.find('div', class_ = 'ratingValue')\n",
    "Rating = Rate.find('span').text\n",
    "print('Rating of the {} according to IMDB:{}'.format(movie, Rating))"
   ]
  },
  {
   "cell_type": "code",
   "execution_count": 18,
   "metadata": {},
   "outputs": [
    {
     "name": "stdout",
     "output_type": "stream",
     "text": [
      "Director:['Joss Whedon']\n",
      "Writers:['Joss Whedon', 'Zak Penn', '1 more credit']\n",
      "Actors:['Robert Downey Jr.', 'Chris Evans', 'Scarlett Johansson', 'See full cast & crew']\n"
     ]
    }
   ],
   "source": [
    "#Fetch the Information Of the Movie\n",
    "Cast = page_1.find_all('div', class_ = 'credit_summary_item')\n",
    "Stars = []\n",
    "for i in Cast:\n",
    "    Stars.append(i.find_all('a'))\n",
    "\n",
    "k = 0\n",
    "Director = []\n",
    "Writers = []\n",
    "Stars_ = []\n",
    "for i in Stars:\n",
    "    for j in i:\n",
    "        if k == 0:\n",
    "            Director.append(j.text)\n",
    "        elif k == 1:\n",
    "            Writers.append(j.text)\n",
    "        else:\n",
    "            Stars_.append(j.text)\n",
    "    k = k + 1 \n",
    "print('Director:{}'.format(Director))\n",
    "print('Writers:{}'.format(Writers))\n",
    "print('Actors:{}'.format(Stars_))"
   ]
  },
  {
   "cell_type": "code",
   "execution_count": null,
   "metadata": {},
   "outputs": [],
   "source": []
  },
  {
   "cell_type": "code",
   "execution_count": null,
   "metadata": {},
   "outputs": [],
   "source": []
  }
 ],
 "metadata": {
  "kernelspec": {
   "display_name": "Python 3",
   "language": "python",
   "name": "python3"
  },
  "language_info": {
   "codemirror_mode": {
    "name": "ipython",
    "version": 3
   },
   "file_extension": ".py",
   "mimetype": "text/x-python",
   "name": "python",
   "nbconvert_exporter": "python",
   "pygments_lexer": "ipython3",
   "version": "3.7.1"
  }
 },
 "nbformat": 4,
 "nbformat_minor": 2
}
